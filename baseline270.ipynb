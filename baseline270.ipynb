{
 "cells": [
  {
   "cell_type": "code",
   "execution_count": 1,
   "id": "144384da-2472-41c1-b24d-9a7665816ac3",
   "metadata": {},
   "outputs": [
    {
     "name": "stderr",
     "output_type": "stream",
     "text": [
      "/opt/conda/envs/meta/lib/python3.10/site-packages/tqdm/auto.py:21: TqdmWarning: IProgress not found. Please update jupyter and ipywidgets. See https://ipywidgets.readthedocs.io/en/stable/user_install.html\n",
      "  from .autonotebook import tqdm as notebook_tqdm\n"
     ]
    }
   ],
   "source": [
    "import os\n",
    "import psutil\n",
    "\n",
    "import pandas as pd\n",
    "from comet_ml import Experiment, ExistingExperiment\n",
    "import torch\n",
    "import torch.nn as nn\n",
    "import torch.nn.functional as F\n",
    "\n",
    "import math\n",
    "import numpy as np\n",
    "import einops\n",
    "import mne\n",
    "import matplotlib.pyplot as plt\n",
    "from tqdm import tqdm\n",
    "\n",
    "from torch.utils.data import Dataset as TDataset, DataLoader\n",
    "\n",
    "from datasets import DatasetDict, Dataset\n",
    "from datasets import load_dataset, load_metric\n",
    "\n",
    "# from lion_pytorch import Lion\n",
    "\n",
    "# from transformers import Wav2Vec2CTCTokenizer\n",
    "# from transformers import Wav2Vec2FeatureExtractor\n",
    "# from transformers import Wav2Vec2Processor\n",
    "# from transformers import Wav2Vec2Model\n",
    "\n",
    "# from envelope_detector.envelope_detector import EnvelopeDetector, create_importance_indices, create_spatial_patterns, create_temporal_patterns\n",
    "\n",
    "import scipy.special\n",
    "\n",
    "import datetime\n",
    "import time"
   ]
  },
  {
   "cell_type": "code",
   "execution_count": null,
   "id": "f7fee0a8-0fce-4691-aa14-4e679e7e12de",
   "metadata": {},
   "outputs": [],
   "source": []
  },
  {
   "cell_type": "code",
   "execution_count": 2,
   "id": "b7588a09-3b8e-4383-826c-56247f4062c6",
   "metadata": {},
   "outputs": [],
   "source": [
    "def get_factor(l, m):\n",
    "    result = math.log(2 * l + 1)\n",
    "    result -= math.log((2 if m==0 else 1) * 2 * math.pi)\n",
    "    result += scipy.special.gammaln(l - abs(m) + 1)\n",
    "    result -= scipy.special.gammaln(l + abs(m) + 1)\n",
    "    result /= 2\n",
    "    result = math.exp(result)\n",
    "    return result"
   ]
  },
  {
   "cell_type": "code",
   "execution_count": null,
   "id": "d093ccfd-1b10-41e7-a0d2-9a064e0cea04",
   "metadata": {},
   "outputs": [],
   "source": []
  },
  {
   "cell_type": "code",
   "execution_count": null,
   "id": "4fe84963-da81-4b49-a905-e8ffdaf1ff1e",
   "metadata": {},
   "outputs": [],
   "source": []
  },
  {
   "cell_type": "code",
   "execution_count": null,
   "id": "7a2f18de-148c-44ab-b0a7-4cfc068ffb28",
   "metadata": {},
   "outputs": [],
   "source": []
  },
  {
   "cell_type": "code",
   "execution_count": 3,
   "id": "c22c0125-46e9-4a95-8814-c3bd15ffb736",
   "metadata": {},
   "outputs": [],
   "source": [
    "# os.environ['CUDA_VISIBLE_DEVICES'] = '1'\n",
    "# torch.set_default_tensor_type('torch.cuda.DoubleTensor')\n",
    "# torch.set_default_tensor_type('torch.cuda.FloatTensor')"
   ]
  },
  {
   "cell_type": "code",
   "execution_count": 4,
   "id": "bce1800a-b2c0-4d49-bc1f-c901d746da29",
   "metadata": {},
   "outputs": [
    {
     "name": "stdout",
     "output_type": "stream",
     "text": [
      "The available RAM memory is 68.57 GB out of 125.69 GB\n"
     ]
    }
   ],
   "source": [
    "total_memory = psutil.virtual_memory().total\n",
    "available_memory = psutil.virtual_memory().available\n",
    "print(f\"The available RAM memory is {available_memory / (1024**3):.2f} GB out of {total_memory / (1024**3):.2f} GB\")"
   ]
  },
  {
   "cell_type": "code",
   "execution_count": 5,
   "id": "1ccd0720-a7a7-4a89-96a6-5d371a459362",
   "metadata": {},
   "outputs": [],
   "source": [
    "class CLIPloss(nn.Module):\n",
    "    def __init__(\n",
    "        self,\n",
    "        clip_temperature,\n",
    "        clip_temperature_type,\n",
    "    ):\n",
    "        super().__init__()\n",
    "        if clip_temperature_type == 'param':\n",
    "            self.temperature = nn.Parameter(torch.tensor(math.log(clip_temperature), dtype=torch.float32))\n",
    "        elif clip_temperature_type == 'hparam':\n",
    "            self.temperature = torch.tensor(math.log(clip_temperature), dtype=torch.float32, requires_grad=False)\n",
    "\n",
    "    def forward(self, brainwave_embeddings, audio_embeddings):\n",
    "        batch_size = brainwave_embeddings.size(0)\n",
    "        if len(audio_embeddings.shape) == 3:\n",
    "            brainwave_embeddings = F.normalize(brainwave_embeddings, dim=(-2, -1))\n",
    "            audio_embeddings = F.normalize(audio_embeddings, dim=(-2, -1))\n",
    "            similarity = torch.einsum('Bef, bef -> Bb', brainwave_embeddings, audio_embeddings)\n",
    "        elif len(audio_embeddings.shape) == 2:\n",
    "            brainwave_embeddings = F.normalize(brainwave_embeddings, dim=(-1))\n",
    "            audio_embeddings = F.normalize(audio_embeddings, dim=(-1))\n",
    "            similarity = torch.einsum('Bf, bf -> Bb', brainwave_embeddings, audio_embeddings)\n",
    "        similarity_temperature = similarity / torch.exp(self.temperature)\n",
    "        labels = torch.arange(batch_size).to(similarity.device)\n",
    "        loss = F.cross_entropy(similarity, labels)\n",
    "        loss_temperature = F.cross_entropy(similarity_temperature, labels)\n",
    "        return loss, loss_temperature"
   ]
  },
  {
   "cell_type": "code",
   "execution_count": 6,
   "id": "a9f54383-3fa3-415b-8a2c-d4656f609f23",
   "metadata": {},
   "outputs": [],
   "source": [
    "class MSE(nn.Module):\n",
    "    def __init__(self):\n",
    "        super().__init__()\n",
    "        self.mse = nn.MSELoss()\n",
    "\n",
    "    def forward(self, brainwave_embeddings, audio_embeddings, temperature):\n",
    "        brainwave_embeddings = einops.rearrange(brainwave_embeddings, 'b f t -> b (f t)')\n",
    "        audio_embeddings = einops.rearrange(audio_embeddings, 'b f t -> b (f t)')\n",
    "        loss = self.mse(brainwave_embeddings, audio_embeddings)\n",
    "        return loss"
   ]
  },
  {
   "cell_type": "code",
   "execution_count": 7,
   "id": "16f1e0fb-9fc4-4f47-9326-1ff91a1cf6c2",
   "metadata": {},
   "outputs": [],
   "source": [
    "def metrics(brainwave_embeddings, audio_embeddings, labels):\n",
    "    if len(audio_embeddings.shape) == 3:\n",
    "        brainwave_embeddings = F.normalize(brainwave_embeddings, dim=(-2, -1))\n",
    "        audio_embeddings = F.normalize(audio_embeddings, dim=(-2, -1))\n",
    "        similarity = torch.einsum('Bef, bef -> Bb', brainwave_embeddings, audio_embeddings)\n",
    "    elif len(audio_embeddings.shape) == 2:\n",
    "        brainwave_embeddings = F.normalize(brainwave_embeddings, dim=(--1))\n",
    "        audio_embeddings = F.normalize(audio_embeddings, dim=(-1))\n",
    "        similarity = torch.einsum('Bf, bf -> Bb', brainwave_embeddings, audio_embeddings)\n",
    "    labels = labels.view(-1,1)\n",
    "    \n",
    "    index_top10 = torch.topk(similarity, 10, dim=-1).indices\n",
    "    index_top1 = torch.topk(similarity, 1, dim=-1).indices\n",
    "    is_in_top10 = torch.eq(index_top10, labels).any(dim=1)\n",
    "    is_in_top1 = torch.eq(index_top1, labels).any(dim=1)\n",
    "    return is_in_top10, is_in_top1"
   ]
  },
  {
   "cell_type": "code",
   "execution_count": 8,
   "id": "9c455610-7c18-4112-8b16-0e48142a96dd",
   "metadata": {},
   "outputs": [],
   "source": [
    "class SpatialAttentionLayer(nn.Module):\n",
    "    def __init__(self, n_input, n_output, K, coords_xy, n_dropout, dropout_radius, seed=None):\n",
    "        super().__init__()\n",
    "\n",
    "        self.n_input = n_input\n",
    "        self.n_dropout = n_dropout\n",
    "        self.dropout_radius = dropout_radius\n",
    "        \n",
    "        coords_xy = torch.tensor(coords_xy, dtype=torch.float32, requires_grad=False)\n",
    "        self.register_buffer('_coords_xy', coords_xy)\n",
    "        \n",
    "        fourier_layout = self._create_fourier_layout(n_input, K, coords_xy)\n",
    "        self.register_buffer('_fourier_layout', fourier_layout)\n",
    "        \n",
    "        Z = self._create_parameters(n_input, n_output, K, seed)\n",
    "        self.Z = nn.Parameter(Z)\n",
    "\n",
    "        \n",
    "    def _create_fourier_layout(self, n_input, K, coords_xy):\n",
    "        coords_x = coords_xy[:,0]\n",
    "        coords_y = coords_xy[:,1]\n",
    "        fourier_layout = torch.zeros((2, K, K, n_input), requires_grad=False)\n",
    "        for k in range(K):\n",
    "            for l in range(K):\n",
    "                coords = 2 * math.pi * ((k+1) * coords_x + (l+1) * coords_y)\n",
    "                fourier_layout[0,k,l,:] = torch.cos(coords)\n",
    "                fourier_layout[1,k,l,:] = torch.sin(coords)\n",
    "        fourier_layout = einops.rearrange(fourier_layout, 'a k l i -> 1 a k l i')\n",
    "        return fourier_layout\n",
    "\n",
    "    def _create_parameters(self, n_input, n_output, K, seed=None):\n",
    "        if seed is None:\n",
    "            seed = int(torch.empty((), dtype=torch.int64).random_().item())\n",
    "        generator = torch.Generator()\n",
    "        generator.manual_seed(seed)\n",
    "        \n",
    "        Z = torch.randn(size=((n_output, 2, K, K)), generator=generator) * 2 / (n_input + n_output)\n",
    "        Z = einops.rearrange(Z, 'j a k l -> j a k l 1')\n",
    "        return Z\n",
    "    \n",
    "    def to(self, device):\n",
    "        self._coords_xy = self._coords_xy.to(device)\n",
    "        self._fourier_layout = self._fourier_layout.to(device)\n",
    "        return super().to(device)\n",
    "\n",
    "    def get_spatial_filter(self):\n",
    "        A = einops.reduce(self.Z * self._fourier_layout, 'j a k l i -> j i', 'sum')\n",
    "        ASoftmax = F.softmax(A, dim=1)\n",
    "        return ASoftmax.clone().detach()\n",
    "    \n",
    "    def forward(self, x):\n",
    "        A = einops.reduce(self.Z * self._fourier_layout, 'j a k l i -> j i', 'sum')\n",
    "        if self.training and self.n_dropout > 0:\n",
    "            mask = torch.zeros((1, self.n_input), dtype=A.dtype, device=A.device)\n",
    "            dropout_location = torch.rand(size=(self.n_dropout, 2), device=A.device) * 0.8 + 0.1\n",
    "            for k in range(self.n_dropout):\n",
    "                for i in range(self.n_input):\n",
    "                    if torch.linalg.norm(self._coords_xy[i] - dropout_location[k]) <= self.dropout_radius:\n",
    "                        mask[:,i] = - float('inf')\n",
    "            A = A + mask\n",
    "        ASoftmax = F.softmax(A, dim=1)\n",
    "        SAx = torch.einsum('oi, bit -> bot', ASoftmax, x)\n",
    "        return SAx"
   ]
  },
  {
   "cell_type": "code",
   "execution_count": 9,
   "id": "f8a366f2-5d57-4dd5-b4c7-65dd28090d77",
   "metadata": {},
   "outputs": [],
   "source": [
    "class SubjectPlusLayer(nn.Module):\n",
    "    def __init__(self, n_input, n_output, n_subjects, regularize=True, bias=False, seed=None):\n",
    "        super().__init__()\n",
    "        self.bias = bias\n",
    "        self.regularize = regularize\n",
    "        if self.regularize:\n",
    "            self.regularizer = None\n",
    "        \n",
    "        A, b = self._create_parameters(n_input, n_output, n_subjects)\n",
    "        self.A = nn.Parameter(A)\n",
    "\n",
    "        I = torch.zeros((1, n_output, n_input), requires_grad=False)\n",
    "        self.register_buffer('I', I)\n",
    "        \n",
    "        if self.bias:\n",
    "            self.b = nn.Parameter(b)\n",
    "            zero = torch.zeros(size=(1, n_output, 1))\n",
    "            self.register_buffer('zero', zero)\n",
    "        \n",
    "    def _create_parameters(self, n_input, n_output, n_subjects, seed=None):\n",
    "        A = torch.zeros(size=(n_subjects, n_output, n_input))\n",
    "        b = torch.zeros(size=(n_subjects, n_output, 1)) if self.bias else None\n",
    "        with torch.no_grad():\n",
    "            for subjects in range(n_subjects):\n",
    "                layer = nn.Conv1d(in_channels=n_input, out_channels=n_output, kernel_size=1)\n",
    "                A[subjects] = einops.rearrange(layer.weight.data, 'o i 1 -> o i')\n",
    "                if self.bias:\n",
    "                    b[subjects] = einops.rearrange(layer.bias.data, 'o -> o 1')\n",
    "        return A, b\n",
    "    \n",
    "    def _create_regularizer(self, A, b):\n",
    "        batch_size = A.shape[0]\n",
    "        reg = torch.norm(A - self.I, p='fro')\n",
    "        if self.bias:\n",
    "            reg += torch.norm(b, p='fro')\n",
    "        reg = reg / batch_size\n",
    "        return reg\n",
    "    \n",
    "    def get_regularizer(self):\n",
    "        regularizer = self.regularizer\n",
    "        self.regularizer = None\n",
    "        return regularizer\n",
    "    \n",
    "    def forward(self, x, s):\n",
    "        batch_size = x.shape[0]\n",
    "        \n",
    "        A = torch.cat([self.I, self.A], dim=0)\n",
    "        s[s >= A.size(0)] = 0\n",
    "        A_ = A[s,:,:]\n",
    "        out = torch.einsum('bji, bit -> bjt', A_, x)\n",
    "        \n",
    "        if self.bias:\n",
    "            b = torch.cat([self.zero, self.b], dim=0)\n",
    "            b_ = b[s,:,:]\n",
    "            out = out + b_\n",
    "        \n",
    "        if self.regularize and self.training:\n",
    "            self.regularizer = self._create_regularizer(A_, b_)\n",
    "            \n",
    "        return out\n"
   ]
  },
  {
   "cell_type": "code",
   "execution_count": 10,
   "id": "ef7e1e32-4fae-4e04-8829-54857a9247c2",
   "metadata": {},
   "outputs": [],
   "source": [
    "class ConvBlock(nn.Module):\n",
    "    def __init__(self, n_input, n_output, block_index):\n",
    "        super().__init__()\n",
    "        \n",
    "        self.kernel_size = 3\n",
    "        self.block_index = block_index\n",
    "        dilation1 = 2**(2*block_index % 5)\n",
    "        dilation2 = 2**((2*block_index + 1) % 5)\n",
    "        dilation3 = 2\n",
    "        \n",
    "        self.conv1 = nn.Conv1d(in_channels=n_input, out_channels=n_output, kernel_size=self.kernel_size, dilation=dilation1, padding='same')\n",
    "        self.conv2 = nn.Conv1d(in_channels=n_output, out_channels=n_output, kernel_size=self.kernel_size, dilation=dilation2, padding='same')\n",
    "        self.conv3 = nn.Conv1d(in_channels=n_output, out_channels=2*n_output, kernel_size=self.kernel_size, dilation=dilation3, padding='same')\n",
    "        \n",
    "        self.batchnorm1 = nn.BatchNorm1d(n_output)\n",
    "        self.batchnorm2 = nn.BatchNorm1d(n_output)\n",
    "        \n",
    "        self.activation1 = nn.GELU()\n",
    "        self.activation2 = nn.GELU()\n",
    "        self.activation3 = nn.GLU(dim=-2)\n",
    "\n",
    "    def forward(self, x):\n",
    "        \n",
    "        c1x = self.conv1(x)\n",
    "        res1 = c1x if self.block_index == 0 else x + c1x\n",
    "        res1 = self.batchnorm1(res1)\n",
    "        res1 = self.activation1(res1)\n",
    "        \n",
    "        c2x = self.conv2(res1)\n",
    "        res2 = res1 + c2x\n",
    "        res2 = self.batchnorm2(res2)\n",
    "        res2 = self.activation2(res2)\n",
    "        \n",
    "        c3x = self.conv3(res2)\n",
    "        out = self.activation3(c3x)\n",
    "\n",
    "        return out"
   ]
  },
  {
   "cell_type": "code",
   "execution_count": 11,
   "id": "33c18403-4030-4a58-be01-9eb48f97c27c",
   "metadata": {},
   "outputs": [],
   "source": [
    "class ConvHead(nn.Module):\n",
    "    def __init__(self, n_channels, n_features, pool, head_stride):\n",
    "        super().__init__()\n",
    "        \n",
    "        \n",
    "        if pool == 'max':\n",
    "            self.pool = nn.Sequential(\n",
    "                nn.MaxPool1d(kernel_size=3, stride=stride, padding=0 if head_stride==2 else 1),\n",
    "                nn.Conv1d(in_channels=n_channels, out_channels=2*n_channels, kernel_size=1)\n",
    "            )\n",
    "        elif pool == 'conv':\n",
    "            self.pool = nn.Conv1d(in_channels=n_channels, out_channels=2*n_channels, kernel_size=3, stride=head_stride, padding=0 if head_stride==2 else 1)\n",
    "            \n",
    "        self.conv = nn.Conv1d(in_channels=2*n_channels, out_channels=n_features, kernel_size=1)\n",
    "        self.activation = nn.GELU()\n",
    "        self.batch_norm = nn.BatchNorm1d(n_features)\n",
    "\n",
    "    def forward(self, x):\n",
    "        x = self.pool(x)\n",
    "        x = self.activation(x)\n",
    "        x = self.conv(x)\n",
    "        x = self.batch_norm(x)\n",
    "        return x"
   ]
  },
  {
   "cell_type": "code",
   "execution_count": 12,
   "id": "9ef422ec-8e5d-4f4d-8d82-4480bb669485",
   "metadata": {},
   "outputs": [],
   "source": [
    "class SpatialModule(nn.Module):\n",
    "    def __init__(\n",
    "        self,\n",
    "        n_input,\n",
    "        n_attantion,\n",
    "        n_unmix,\n",
    "        use_spatial_attention,\n",
    "        n_spatial_harmonics,\n",
    "        coords_xy_scaled,\n",
    "        spatial_dropout_number,\n",
    "        spatial_dropout_radius,\n",
    "        use_unmixing_layer,\n",
    "        use_subject_layer,\n",
    "        n_subjects,\n",
    "        regularize_subject_layer,\n",
    "        bias_subject_layer,\n",
    "    ):\n",
    "        super().__init__()\n",
    "        \n",
    "        if use_spatial_attention:\n",
    "            self.self_attention = SpatialAttentionLayer(\n",
    "                n_input, n_attantion, n_spatial_harmonics, coords_xy_scaled, spatial_dropout_number, spatial_dropout_radius\n",
    "            )\n",
    "        else: self.self_attention = None\n",
    "\n",
    "        if use_unmixing_layer:\n",
    "            n_attantion = n_attantion if self.self_attention else n_input\n",
    "            self.unmixing_layer = nn.Conv1d(in_channels=n_attantion, out_channels=n_attantion, kernel_size=1)\n",
    "        else: self.unmixing_layer = None\n",
    "            \n",
    "        if use_subject_layer:\n",
    "            n_attantion = n_attantion if (self.self_attention or self.unmixing_layer) else n_input\n",
    "            self.subject_layer = SubjectPlusLayer(\n",
    "                n_attantion, n_unmix, n_subjects, regularize=regularize_subject_layer, bias=bias_subject_layer\n",
    "            )\n",
    "        else: self.subject_layer = None\n",
    "\n",
    "    def forward(self, xs):\n",
    "        x, s = xs\n",
    "        x = self.self_attention(x) if self.self_attention else x\n",
    "        x = self.unmixing_layer(x) if self.unmixing_layer else x\n",
    "        x = self.subject_layer(x, s) if self.subject_layer else x\n",
    "        return x"
   ]
  },
  {
   "cell_type": "code",
   "execution_count": 13,
   "id": "2db28e1d-bf9e-4c28-a708-545723e6473b",
   "metadata": {},
   "outputs": [],
   "source": [
    "class TemporalModule(nn.Module):\n",
    "    def __init__(\n",
    "        self,\n",
    "        n_unmix,\n",
    "        n_block,\n",
    "    ):\n",
    "        super().__init__()\n",
    "\n",
    "        self.conv_blocks = nn.ModuleDict()\n",
    "        for block_index in range(0, 5):\n",
    "            n_in = n_unmix if block_index == 0 else n_block\n",
    "            self.conv_blocks[f'conv_block_{block_index}'] = ConvBlock(n_in, n_block, block_index)\n",
    "\n",
    "    def forward(self, x):\n",
    "        for _, module in self.conv_blocks.items():\n",
    "            x = module(x)\n",
    "        return x"
   ]
  },
  {
   "cell_type": "code",
   "execution_count": 14,
   "id": "bb268083-333f-4eaf-bf2f-00571b308af0",
   "metadata": {},
   "outputs": [],
   "source": [
    "class BrainModule(nn.Module):\n",
    "    def __init__(\n",
    "        self,\n",
    "        **kwargs\n",
    "    ):\n",
    "        super().__init__()\n",
    "        self.spatial_module = SpatialModule(\n",
    "            n_input=kwargs[\"n_channels_input\"],\n",
    "            n_attantion=kwargs[\"n_channels_attantion\"],\n",
    "            n_unmix=kwargs[\"n_channels_unmix\"],\n",
    "            use_spatial_attention=kwargs[\"use_spatial_attention\"],\n",
    "            n_spatial_harmonics=kwargs[\"n_spatial_harmonics\"],\n",
    "            coords_xy_scaled=np.load(kwargs[\"dirprocess\"] + 'coords/coords208_xy_scaled.npy'),\n",
    "            spatial_dropout_number=kwargs[\"spatial_dropout_number\"],\n",
    "            spatial_dropout_radius=kwargs[\"spatial_dropout_radius\"],\n",
    "            use_unmixing_layer=kwargs[\"use_unmixing_layer\"],\n",
    "            use_subject_layer=kwargs[\"use_subject_layer\"],\n",
    "            n_subjects=kwargs[\"n_subjects\"],\n",
    "            regularize_subject_layer=kwargs[\"regularize_subject_layer\"],\n",
    "            bias_subject_layer=kwargs[\"bias_subject_layer\"],\n",
    "        )\n",
    "        \n",
    "        self.temporal_module = TemporalModule(\n",
    "            n_unmix=kwargs[\"n_channels_unmix\"],\n",
    "            n_block=kwargs[\"n_channels_block\"],\n",
    "        )\n",
    "\n",
    "        self.feature_projection = ConvHead(\n",
    "            kwargs[\"n_channels_block\"], \n",
    "            kwargs[\"n_features\"], \n",
    "            kwargs[\"head_pool\"],\n",
    "            kwargs[\"head_stride\"],\n",
    "        )\n",
    "\n",
    "\n",
    "    def forward(self, xs):\n",
    "        z = self.spatial_module(xs)\n",
    "        y = self.temporal_module(z)\n",
    "        y = self.feature_projection(y)\n",
    "        return z, y"
   ]
  },
  {
   "cell_type": "code",
   "execution_count": 15,
   "id": "a6270439-b860-4ee2-b7be-5943ee5676e2",
   "metadata": {},
   "outputs": [],
   "source": [
    "class DoubleDataset(TDataset):\n",
    "    def __init__(self, meg, hidden, df, meg_sr, meg_offset=0):\n",
    "\n",
    "        self.meg = meg\n",
    "        self.hidden = hidden\n",
    "        self.df = df\n",
    "        self.meg_sr = meg_sr\n",
    "        self.meg_offset = int(meg_offset * self.meg_sr)\n",
    "    \n",
    "    def __len__(self):\n",
    "        return self.df.shape[0]\n",
    "    \n",
    "    def __getitem__(self, index):\n",
    "        row_df = self.df.loc[index]\n",
    "        \n",
    "        subject_id, session_id, story_id = row_df['subject_id'], row_df['session_id'], row_df['story_id']\n",
    "        sbj = torch.tensor(subject_id, dtype=torch.long)\n",
    "        subject_id = str(subject_id)\n",
    "        subject_id = '0' + subject_id if len(subject_id) == 1 else subject_id\n",
    "        subset = f'subject{subject_id}_session{session_id}_story{story_id}'\n",
    "        \n",
    "        meg_start, meg_stop = row_df[f'meg{self.meg_sr}_start'], row_df[f'meg{self.meg_sr}_stop']\n",
    "        meg_start, meg_stop = meg_start + self.meg_offset, meg_stop + self.meg_offset\n",
    "        wav_index = row_df['wav_index']\n",
    "        \n",
    "        meg = torch.tensor(self.meg[subset][:,meg_start:meg_stop], dtype=torch.float32)\n",
    "        hid = torch.tensor(self.hidden[wav_index], dtype=torch.float32)\n",
    "        widx = torch.tensor(wav_index, dtype=torch.long)\n",
    "\n",
    "        return meg, sbj, hid, widx"
   ]
  },
  {
   "cell_type": "code",
   "execution_count": 16,
   "id": "fa1fea22-6f54-4bf5-b564-550eeefebbb7",
   "metadata": {},
   "outputs": [],
   "source": [
    "class Trainer:\n",
    "    def __init__(self, model, hparam, experiment=None):\n",
    "        self.model = model\n",
    "        self.experiment = experiment\n",
    "        if hparam[\"loss\"] == \"clip\": self.criterion = CLIPloss(\n",
    "            clip_temperature=hparam[\"clip_temperature\"], clip_temperature_type=hparam[\"clip_temperature_type\"]\n",
    "        )\n",
    "        elif hparam[\"loss\"] == \"mse\": self.criterion = MSE()\n",
    "        \n",
    "        parameters = [\n",
    "            {'params': self.model.spatial_module.parameters(), 'lr':hparam[\"lr_fe\"], 'weight_decay':hparam[\"weight_decay\"]},\n",
    "            {'params': self.model.temporal_module.parameters(), 'lr':hparam[\"lr_fe\"], 'weight_decay':hparam[\"weight_decay\"]},\n",
    "            {'params': self.model.feature_projection.parameters(), 'lr':hparam[\"lr_fe\"], 'weight_decay':hparam[\"weight_decay\"]},\n",
    "            {'params': self.criterion.parameters(), 'lr':hparam[\"clip_temperature_lr\"], 'weight_decay':0}\n",
    "        ]\n",
    "            \n",
    "        if hparam[\"optim\"] == \"Adam\": self.optimizer = torch.optim.Adam(parameters)\n",
    "        elif hparam[\"optim\"] == \"AdamW\": self.optimizer = torch.optim.AdamW(parameters)\n",
    "        \n",
    "        self.scheduler = torch.optim.lr_scheduler.ExponentialLR(self.optimizer, gamma=hparam[\"scheduler_rate\"]) if hparam[\"use_scheduler\"] else None\n",
    "        self.save_file = hparam[\"checkpoint\"]\n",
    "\n",
    "    \n",
    "    def fit(self, dataloader_train, dataloader_val, hidden_test, nepoch=1, device_index=0):\n",
    "        hidden_test = torch.tensor(hidden_test, dtype=torch.float32).to(f'cuda:{device_index}')\n",
    "        hidden_test = einops.rearrange(hidden_test, 'b t f -> b f t')\n",
    "        torch.cuda.empty_cache()\n",
    "\n",
    "        self.model = self.model.to(f'cuda:{device_index}')\n",
    "        self.criterion = self.criterion.to(f'cuda:{device_index}')\n",
    "        val_loss_min = float('inf')\n",
    "        \n",
    "        for epoch in range(nepoch):\n",
    "            \n",
    "            self.model.train()\n",
    "            self.criterion.train()\n",
    "            train_loss = 0\n",
    "            pbar = tqdm(dataloader_train, leave=False)\n",
    "            for meg, sbj, hidden, _ in pbar:\n",
    "                pbar.set_description(desc=f\"train epoch {epoch}\")\n",
    "  \n",
    "                hidden = einops.rearrange(hidden, 'b t f -> b f t')\n",
    "                meg, sbj, hidden = meg.to(f'cuda:{device_index}'), sbj.to(f'cuda:{device_index}'), hidden.to(f'cuda:{device_index}')\n",
    "                _, result = self.model((meg, sbj))\n",
    "\n",
    "                _, loss_temperature = self.criterion(result, hidden)\n",
    "                \n",
    "                self.optimizer.zero_grad()\n",
    "                loss_temperature.backward()\n",
    "                self.optimizer.step()\n",
    "                train_loss += loss_temperature.detach().cpu().numpy().item() * meg.shape[0]\n",
    "                \n",
    "            train_loss /= len(dataset_train)\n",
    "            if self.experiment is not None:\n",
    "                self.experiment.log_metric(\"loss_train\", train_loss, step=epoch)\n",
    "                \n",
    "            self.optimizer.zero_grad()\n",
    "            if self.scheduler:\n",
    "                self.scheduler.step()\n",
    "            \n",
    "            \n",
    "            # now = datetime.datetime.now().strftime(\"%Y-%m-%d_%H-%M-%S\")\n",
    "            # checkpoint_filename = f\"checkpoint_{now}_epoch_{epoch}.pth\"\n",
    "            # checkpoint_filepath = 'model_checkpoints/' + checkpoint_filename\n",
    "            # Save checkpoint\n",
    "            # checkpoint = {\n",
    "            #     \"epoch\": epoch,\n",
    "            #     \"model_state_dict\": self.model.module.state_dict(),\n",
    "            #     \"optimizer_state_dict\": self.optimizer.state_dict(),\n",
    "            # }\n",
    "            # torch.save(checkpoint, checkpoint_filepath)\n",
    "            del meg, sbj, hidden, loss_temperature, result\n",
    "            torch.cuda.empty_cache()\n",
    "            \n",
    "            time.sleep(1)\n",
    "            model.eval()\n",
    "            self.criterion.eval()\n",
    "            val_loss = 0\n",
    "            pbar = tqdm(dataloader_val, leave=False)\n",
    "            is_in_top10s, is_in_top1s = [], []\n",
    "            for meg, sbj, hidden, widx in pbar:\n",
    "                with torch.no_grad():\n",
    "                    pbar.set_description(desc=f\"val epoch {epoch}\")\n",
    "                    hidden = einops.rearrange(hidden, 'b t f -> b f t')\n",
    "                        \n",
    "                    meg, sbj, hidden, widx = meg.to(f'cuda:{device_index}'), sbj.to(f'cuda:{device_index}'), hidden.to(f'cuda:{device_index}'), widx.to(f'cuda:{device_index}')\n",
    "                    _, result = model((meg, sbj))\n",
    "    \n",
    "                    _, loss_temperature = self.criterion(result, hidden)\n",
    "                    val_loss += loss_temperature.detach().cpu().numpy().item() * meg.shape[0]\n",
    "    \n",
    "                    is_in_top10, is_in_top1 = metrics(result, hidden_test, widx)\n",
    "                    is_in_top10s.append(is_in_top10.detach().cpu().numpy())\n",
    "                    is_in_top1s.append(is_in_top1.detach().cpu().numpy())\n",
    "                \n",
    "            top10s = np.mean(np.concatenate(is_in_top10s)).item()\n",
    "            top1s = np.mean(np.concatenate(is_in_top1s)).item()\n",
    "            \n",
    "            val_loss /= len(dataset_test)\n",
    "            if self.experiment is not None:\n",
    "                self.experiment.log_metric(\"loss_test\", val_loss, step=epoch)\n",
    "                self.experiment.log_metric(\"top10s_test\", top10s, step=epoch)\n",
    "                self.experiment.log_metric(\"top1s_test\", top1s, step=epoch)\n",
    "\n",
    "            if val_loss < val_loss_min:\n",
    "                torch.save({\n",
    "                    'epoch': epoch,\n",
    "                    'model_state_dict': model.state_dict(),\n",
    "                    'optimizer_state_dict': self.optimizer.state_dict(),\n",
    "                    'loss': val_loss,\n",
    "                }, f\"checkpoint/{self.save_file}.pt\")\n",
    "                val_loss = val_loss_min\n",
    "            \n",
    "            del meg, sbj, hidden, loss_temperature, result\n",
    "            torch.cuda.empty_cache()"
   ]
  },
  {
   "cell_type": "code",
   "execution_count": 17,
   "id": "6d01e9bb-36df-4f90-9cbd-937b7e379442",
   "metadata": {},
   "outputs": [],
   "source": [
    "# name: \"SimpleNet\", \"BrainModule\"\n",
    "# pool = 'max', 'conv'\n",
    "# optim = 'Adam', 'AdamW'\n",
    "# loss = 'clip', 'mse'\n",
    "# hidden = 'hidden_state_last4avg', 'hidden_state_last', 'extract_features', 'lms'\n",
    "# preprocess = 'default', 'filter02hp', 'filter4hp', 'filter12hp',  'filter12lp', 'filter30lp'\n",
    "# conv_type = 'conv', 'att'\n",
    "# preprocess = 'default', 'rearranged'\n",
    "\n",
    "hyper_params = {\n",
    "    \"name\": \"BrainModule\",\n",
    "    \"batch_size\": 100,\n",
    "    \"lr_fe\":3e-4,\n",
    "    \"use_scheduler\":False,\n",
    "    \"scheduler_rate\":0.95,\n",
    "    \"optim\":\"AdamW\",\n",
    "    \"weight_decay\":1e-1,\n",
    "    \"clip_temperature\":1,\n",
    "    \"clip_temperature_type\":\"param\",\n",
    "    \"clip_temperature_lr\":1e-1,\n",
    "    \"meg_sr\":100,\n",
    "    \"meg_offset\":0.15,\n",
    "    \"hidden\":\"extract_features\",\n",
    "    \"n_subjects\":27,\n",
    "    \"preprocess\":\"default\",\n",
    "\n",
    "    \"n_channels_input\":208,\n",
    "    \"n_channels_attantion\":270,\n",
    "    \"n_channels_unmix\":270,\n",
    "    \"use_spatial_attention\":True,\n",
    "    \"n_spatial_harmonics\":32,\n",
    "    \"spatial_dropout_number\":0, \n",
    "    \"spatial_dropout_radius\":0.1,\n",
    "    \"use_unmixing_layer\":True,\n",
    "    \"use_subject_layer\":True,\n",
    "    \"regularize_subject_layer\":False,\n",
    "    \"bias_subject_layer\":False,\n",
    "    \"n_channels_block\":320,\n",
    "    \"n_blocks\":5,\n",
    "    \"head_pool\":\"conv\",\n",
    "    \"n_features\":1024,\n",
    "    \"loss\":\"clip\",\n",
    "    \"head_stride\":2,\n",
    "    \n",
    "}\n",
    "\n",
    "if hyper_params[\"hidden\"] == \"extract_features\":\n",
    "    hyper_params[\"n_features\"] = 512\n",
    "if hyper_params[\"hidden\"] == 'lms':\n",
    "    hyper_params[\"n_features\"] = 120\n",
    "    hyper_params[\"head_stride\"] = 1\n",
    "\n",
    "dirprocess = '/mnt/datasets/MASC-MEG/process_v2/'\n",
    "hyper_params[\"dirprocess\"] = dirprocess\n",
    "coords_xy_scaled = np.load(dirprocess + 'coords/coords208_xy_scaled.npy')\n",
    "hyper_params[\"robust_scale\"] = 1\n",
    "hyper_params[\"checkpoint\"] = 'baseline270'\n",
    "# hyper_params[\"coords_xy_scaled\"] = coords_xy_scaled"
   ]
  },
  {
   "cell_type": "code",
   "execution_count": 18,
   "id": "29304460-02cb-487d-98a4-18cd2bcc37fc",
   "metadata": {},
   "outputs": [],
   "source": [
    "# n_subjects = hyper_params[\"n_subjects\"]\n",
    "\n",
    "# dirprocess = 'datasets/MASC-MEG/process_v1/'\n",
    "\n",
    "# coords_xy_scaled = np.load(dirprocess + 'coords/coords208_xy_scaled.npy')\n",
    "# hyper_params[\"coords_xy_scaled\"] = coords_xy_scaled\n",
    "\n",
    "hidden_train = np.load(dirprocess + f'audio/{hyper_params[\"hidden\"]}_train4.npy')\n",
    "hidden_test = np.load(dirprocess + f'audio/{hyper_params[\"hidden\"]}_test4.npy')\n",
    "\n",
    "df_train = pd.read_csv(dirprocess + f'dataframe/df_train{hyper_params[\"n_subjects\"]}.csv')\n",
    "df_test = pd.read_csv(dirprocess + f'dataframe/df_test{hyper_params[\"n_subjects\"]}.csv')\n",
    "\n",
    "meg = dict(np.load(dirprocess + f'meg/meg{hyper_params[\"n_subjects\"]}_sr{hyper_params[\"meg_sr\"]}_{hyper_params[\"preprocess\"]}_v{hyper_params[\"robust_scale\"]}.npz'))"
   ]
  },
  {
   "cell_type": "code",
   "execution_count": 19,
   "id": "22fc6495-1ab0-4539-a3cf-d2be22538775",
   "metadata": {},
   "outputs": [],
   "source": [
    "# hyper_params[\"coords_xy_scaled\"] = coords_xy_scaled"
   ]
  },
  {
   "cell_type": "code",
   "execution_count": 20,
   "id": "e9dcff3a-53f5-4541-9a11-a98a177f97eb",
   "metadata": {},
   "outputs": [],
   "source": [
    "dataset_train = DoubleDataset(meg, hidden_train, df_train, hyper_params[\"meg_sr\"], hyper_params[\"meg_offset\"])\n",
    "dataset_test = DoubleDataset(meg, hidden_test, df_test, hyper_params[\"meg_sr\"], hyper_params[\"meg_offset\"])"
   ]
  },
  {
   "cell_type": "code",
   "execution_count": 21,
   "id": "16422ee7-df1d-47d2-8290-d28e6a269b0a",
   "metadata": {},
   "outputs": [],
   "source": [
    "dataloader_train = DataLoader(dataset_train, batch_size=hyper_params['batch_size'], shuffle=True, drop_last=True)#, generator=torch.Generator(device='cuda'))\n",
    "dataloader_test = DataLoader(dataset_test, batch_size=hyper_params['batch_size'] // 5, shuffle=False)#, generator=torch.Generator(device='cuda'))"
   ]
  },
  {
   "cell_type": "code",
   "execution_count": 32,
   "id": "9318caba-88b7-4fd1-8943-507c5b4f9b71",
   "metadata": {},
   "outputs": [],
   "source": [
    "meg_, sjt, hid, w = next(iter(dataloader_train))"
   ]
  },
  {
   "cell_type": "code",
   "execution_count": 33,
   "id": "12cdfbee-dfe1-4c8a-9954-c5d310ee27fa",
   "metadata": {},
   "outputs": [
    {
     "name": "stderr",
     "output_type": "stream",
     "text": [
      "\u001b[1;38;5;214mCOMET WARNING:\u001b[0m As you are running in a Jupyter environment, you will need to call `experiment.end()` when finished to ensure all metrics and code are logged before exiting.\n",
      "\u001b[1;38;5;39mCOMET INFO:\u001b[0m Couldn't find a Git repository in '/mnt/Active_projects/amvosk/MetaMEG' nor in any parent directory. Set `COMET_GIT_DIRECTORY` if your Git Repository is elsewhere.\n",
      "\u001b[1;38;5;214mCOMET WARNING:\u001b[0m Unknown error exporting current conda environment\n",
      "\u001b[1;38;5;214mCOMET WARNING:\u001b[0m Unknown error retrieving Conda package as an explicit file\n",
      "\u001b[1;38;5;214mCOMET WARNING:\u001b[0m Unknown error retrieving Conda information\n",
      "\u001b[1;38;5;39mCOMET INFO:\u001b[0m Experiment is live on comet.com https://www.comet.com/amvosk/metameg27/4ddd0001f59e423d8f67cbde0916605e\n",
      "\n",
      "\u001b[1;38;5;214mCOMET WARNING:\u001b[0m unable to find caller source code in a jupyter notebook; ignoring\n"
     ]
    }
   ],
   "source": [
    "experiment = Experiment(\n",
    "    api_key=\"h1D6l9T1S26xlDYKakWxGBudo\",\n",
    "    project_name=f'metameg{hyper_params[\"n_subjects\"]}',\n",
    "    workspace=\"amvosk\",\n",
    "    auto_output_logging=False,\n",
    ")\n",
    "\n",
    "experiment.log_parameters(hyper_params)\n",
    "experiment.log_code()\n",
    "# experiment = None"
   ]
  },
  {
   "cell_type": "code",
   "execution_count": 34,
   "id": "283c211e-c7cc-40d6-b767-a04a37756120",
   "metadata": {},
   "outputs": [],
   "source": [
    "model = BrainModule(**hyper_params)"
   ]
  },
  {
   "cell_type": "code",
   "execution_count": 35,
   "id": "60ec0a0e-e948-495a-98e4-45c54f64a9c0",
   "metadata": {},
   "outputs": [],
   "source": [
    "trainer = Trainer(model, hyper_params, experiment=experiment)"
   ]
  },
  {
   "cell_type": "code",
   "execution_count": 36,
   "id": "fe597976-c1c5-4cdb-acee-cdd1b015546d",
   "metadata": {},
   "outputs": [],
   "source": [
    "# Z, fourier_layout = trainer.model.spatial_module.self_attention.Z, trainer.model.spatial_module.self_attention._fourier_layout"
   ]
  },
  {
   "cell_type": "code",
   "execution_count": 37,
   "id": "edd7fc6e-a063-4b59-91be-b28aca3d524d",
   "metadata": {},
   "outputs": [],
   "source": [
    "# A = einops.reduce(Z * fourier_layout, 'j a k l i -> j i', 'sum')"
   ]
  },
  {
   "cell_type": "code",
   "execution_count": 38,
   "id": "afdce918-9402-479f-a994-9e982f28a5b4",
   "metadata": {},
   "outputs": [],
   "source": [
    "# ASoftmax = F.softmax(A, dim=1)"
   ]
  },
  {
   "cell_type": "code",
   "execution_count": 39,
   "id": "938bc42b-12fa-4d82-99ca-cc1cbf64ba8d",
   "metadata": {},
   "outputs": [],
   "source": [
    "# ASoftmax_numpy = ASoftmax.detach().cpu().numpy()"
   ]
  },
  {
   "cell_type": "code",
   "execution_count": 40,
   "id": "2e3cec45-125e-4c7d-8f8f-031eb6668054",
   "metadata": {},
   "outputs": [],
   "source": [
    "# U, S, Vt = np.linalg.svd(ASoftmax_numpy)"
   ]
  },
  {
   "cell_type": "code",
   "execution_count": 41,
   "id": "ac7aca3c-89db-4d3f-b068-fad6c016c842",
   "metadata": {},
   "outputs": [],
   "source": [
    "# Vt[0]"
   ]
  },
  {
   "cell_type": "code",
   "execution_count": null,
   "id": "6073b296-25a5-4710-a73a-21a2683ddec1",
   "metadata": {},
   "outputs": [],
   "source": []
  },
  {
   "cell_type": "code",
   "execution_count": 42,
   "id": "31faeecf-ab51-41d5-b1c3-44a70d196fc9",
   "metadata": {},
   "outputs": [
    {
     "name": "stderr",
     "output_type": "stream",
     "text": [
      "val epoch 2:  61%|██████▏   | 1502/2448 [01:49<01:06, 14.13it/s]  IOPub message rate exceeded.\n",
      "The Jupyter server will temporarily stop sending output\n",
      "to the client in order to avoid crashing it.\n",
      "To change this limit, set the config variable\n",
      "`--ServerApp.iopub_msg_rate_limit`.\n",
      "\n",
      "Current values:\n",
      "ServerApp.iopub_msg_rate_limit=1000.0 (msgs/sec)\n",
      "ServerApp.rate_limit_window=3.0 (secs)\n",
      "\n"
     ]
    }
   ],
   "source": [
    "try:\n",
    "    trainer.fit(dataloader_train, dataloader_test, hidden_test, nepoch=10, device_index=2)\n",
    "finally:\n",
    "    if trainer.experiment:\n",
    "        experiment.end()\n",
    "    trainer.experiment = None"
   ]
  },
  {
   "cell_type": "code",
   "execution_count": null,
   "id": "17f62f59-4f56-440a-94df-3bdafa89a760",
   "metadata": {},
   "outputs": [],
   "source": []
  },
  {
   "cell_type": "code",
   "execution_count": null,
   "id": "82cd1307-b423-4088-8b3f-6860b8643c58",
   "metadata": {},
   "outputs": [],
   "source": []
  },
  {
   "cell_type": "code",
   "execution_count": null,
   "id": "da9b58b3-833b-4e92-9053-b127a52b998f",
   "metadata": {},
   "outputs": [],
   "source": []
  },
  {
   "cell_type": "code",
   "execution_count": 22,
   "id": "562a76fb-9269-4270-a822-d74398cc0382",
   "metadata": {},
   "outputs": [],
   "source": [
    "model = BrainModule(**hyper_params)"
   ]
  },
  {
   "cell_type": "code",
   "execution_count": 23,
   "id": "15831848-25a8-499a-86fb-0331664bde16",
   "metadata": {},
   "outputs": [],
   "source": [
    "checkpoint = torch.load(f'checkpoint/{hyper_params[\"checkpoint\"]}.pt')\n",
    "\n",
    "model = model.to('cpu')\n",
    "model.load_state_dict(checkpoint['model_state_dict'])\n",
    "# optimizer.load_state_dict(checkpoint['optimizer_state_dict'])\n",
    "epoch = checkpoint['epoch']\n",
    "loss = checkpoint['loss']\n",
    "\n",
    "model.eval();"
   ]
  },
  {
   "cell_type": "code",
   "execution_count": 24,
   "id": "3b3b9c34-1505-45db-91eb-1764e3b7d8aa",
   "metadata": {},
   "outputs": [],
   "source": [
    "attention_matrix = model.spatial_module.self_attention.get_spatial_filter().numpy()"
   ]
  },
  {
   "cell_type": "code",
   "execution_count": 25,
   "id": "22692a1e-e2ed-4340-99ce-fc6fbe0cac62",
   "metadata": {},
   "outputs": [],
   "source": [
    "attention_sum = attention_matrix.sum(axis=0)"
   ]
  },
  {
   "cell_type": "code",
   "execution_count": 26,
   "id": "43c5a938-6f24-4764-a98f-d1432c4d74d7",
   "metadata": {},
   "outputs": [
    {
     "name": "stdout",
     "output_type": "stream",
     "text": [
      "NOTE: pick_types() is a legacy function. New code should use inst.pick(...).\n"
     ]
    },
    {
     "name": "stderr",
     "output_type": "stream",
     "text": [
      "/tmp/ipykernel_168453/3457455693.py:18: RuntimeWarning: The unit for channel(s) MISC 001, MISC 002, MISC 003, MISC 004, MISC 005, MISC 006, MISC 007, MISC 008, MISC 009, MISC 010, MISC 011, MISC 012, MISC 013, MISC 014, MISC 015, MISC 016, MISC 017, MISC 018, MISC 019, MISC 020, MISC 021, MISC 022, MISC 023, MISC 024, MISC 025, MISC 026, MISC 027, MISC 028, MISC 029, MISC 030, MISC 031, MISC 032 has changed from V to NA.\n",
      "  raw = mne_bids.read_raw_bids(bids_path, verbose=False)\n"
     ]
    }
   ],
   "source": [
    "from pathlib import Path\n",
    "import mne_bids\n",
    "\n",
    "dirpath = '/mnt/datasets/MASC-MEG/bids_anonym/'\n",
    "bids_root = Path(dirpath)\n",
    "\n",
    "subject, session, task = 1, 0, 0\n",
    "subject_index = \"0\" + str(subject) if len(str(subject)) == 1 else str(subject)\n",
    "bids_path = mne_bids.BIDSPath(\n",
    "    subject=subject_index,\n",
    "    session=str(session),\n",
    "    task=str(task),\n",
    "    datatype=\"meg\",\n",
    "    root=bids_root,\n",
    ")\n",
    "\n",
    "try:\n",
    "    raw = mne_bids.read_raw_bids(bids_path, verbose=False)\n",
    "except FileNotFoundError:\n",
    "    print(\"missing\", subject, session, task)\n",
    "\n",
    "raw = raw.pick_types(\n",
    "    meg=True, misc=False, eeg=False, eog=False, ecg=False\n",
    ")\n",
    "\n",
    "layout = mne.channels.find_layout(raw.info)"
   ]
  },
  {
   "cell_type": "code",
   "execution_count": 27,
   "id": "fde77068-32a9-4426-93f0-cb2f7e340cbd",
   "metadata": {},
   "outputs": [
    {
     "data": {
      "image/png": "[encoded data removed]",
      "text/plain": [
       "<Figure size 400x400 with 1 Axes>"
      ]
     },
     "metadata": {},
     "output_type": "display_data"
    }
   ],
   "source": [
    "fig, ax = plt.subplots(1, 1, figsize=(4, 4))\n",
    "ax = np.asarray([[ax]])\n",
    "\n",
    "mne.viz.plot_topomap(attention_sum, (layout.pos -0.5)*2, show=False, axes=ax[0,0], sphere=1)\n",
    "ax[0,0].set_title(f'attention (sum)')\n",
    "\n",
    "fig.tight_layout()\n",
    "fig.savefig(f'image2/attention (sum)')\n",
    "plt.show()"
   ]
  },
  {
   "cell_type": "code",
   "execution_count": null,
   "id": "77e85323-097f-4cda-a9e8-20c53b6a7670",
   "metadata": {},
   "outputs": [],
   "source": [
    "U, S, Vh = np.linalg.svd(attention_matrix)\n",
    "attention_svd = Vh[0]"
   ]
  },
  {
   "cell_type": "code",
   "execution_count": null,
   "id": "27159ab2-5b78-4c34-8b17-8c4ac18855a3",
   "metadata": {},
   "outputs": [],
   "source": [
    "plt.plot(S)"
   ]
  },
  {
   "cell_type": "code",
   "execution_count": null,
   "id": "313b0a0b-beb6-434b-bd2c-47647c30fc2f",
   "metadata": {},
   "outputs": [],
   "source": [
    "fig, ax = plt.subplots(2, 3, figsize=(9, 6))\n",
    "# ax = np.asarray([[ax]])\n",
    "\n",
    "for j in range(3):\n",
    "    for i in range(2):\n",
    "        mne.viz.plot_topomap(Vh[i*3+j], (layout.pos -0.5)*2, show=False, axes=ax[i,j], sphere=1)\n",
    "        ax[i,j].set_title(f'attention (svd), {i*3+j}')\n",
    "\n",
    "fig.tight_layout()\n",
    "fig.savefig(f'image2/attention (svd)')\n",
    "plt.show()"
   ]
  },
  {
   "cell_type": "code",
   "execution_count": 40,
   "id": "4ab65052-296d-4946-8143-30f0123ca554",
   "metadata": {},
   "outputs": [
    {
     "data": {
      "text/plain": [
       "38.55"
      ]
     },
     "execution_count": 40,
     "metadata": {},
     "output_type": "execute_result"
    }
   ],
   "source": [
    "10 + 9 + 7 + 5 + 7.55"
   ]
  },
  {
   "cell_type": "code",
   "execution_count": null,
   "id": "0242d792-9e4a-497a-9ef1-fc19ebb402cc",
   "metadata": {},
   "outputs": [],
   "source": []
  },
  {
   "cell_type": "code",
   "execution_count": null,
   "id": "c86954f6-9cfc-403c-8624-4e21e20045cc",
   "metadata": {},
   "outputs": [],
   "source": []
  },
  {
   "cell_type": "code",
   "execution_count": null,
   "id": "c783abbb-2360-46f0-a0b1-d8706c0ac249",
   "metadata": {},
   "outputs": [],
   "source": []
  },
  {
   "cell_type": "code",
   "execution_count": null,
   "id": "0197bc60-549a-40a5-88ec-109bf14e1781",
   "metadata": {},
   "outputs": [],
   "source": []
  }
 ],
 "metadata": {
  "kernelspec": {
   "display_name": "meta",
   "language": "python",
   "name": "meta"
  },
  "language_info": {
   "codemirror_mode": {
    "name": "ipython",
    "version": 3
   },
   "file_extension": ".py",
   "mimetype": "text/x-python",
   "name": "python",
   "nbconvert_exporter": "python",
   "pygments_lexer": "ipython3",
   "version": "3.11.9"
  }
 },
 "nbformat": 4,
 "nbformat_minor": 5
}
